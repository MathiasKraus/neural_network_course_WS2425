{
 "cells": [
  {
   "cell_type": "code",
   "execution_count": 1,
   "id": "f9c01f90-ac59-44d7-90eb-13bd40b400d9",
   "metadata": {},
   "outputs": [
    {
     "name": "stderr",
     "output_type": "stream",
     "text": [
      "/home/krm05476/anaconda3/envs/neural-network-course/lib/python3.12/site-packages/tqdm/auto.py:21: TqdmWarning: IProgress not found. Please update jupyter and ipywidgets. See https://ipywidgets.readthedocs.io/en/stable/user_install.html\n",
      "  from .autonotebook import tqdm as notebook_tqdm\n"
     ]
    }
   ],
   "source": [
    "import logging\n",
    "\n",
    "import torch\n",
    "import torch.nn.functional as F\n",
    "\n",
    "from lightning.pytorch import Trainer\n",
    "from lightning.pytorch.tuner import Tuner\n",
    "\n",
    "from model import FasterRCNN\n",
    "from data import VOCDataModule\n",
    "from helper import show_image, show_image_and_bounding_box, show_worst_image_predictions, show_confusion_matrix, get_batch, MyProgressBar\n",
    "from helper import get_sample, convert_predictions\n",
    "\n",
    "log = logging.getLogger(__name__)"
   ]
  },
  {
   "cell_type": "code",
   "execution_count": 2,
   "id": "be6e23e6-98d7-4374-8d07-479c43faba6c",
   "metadata": {},
   "outputs": [],
   "source": [
    "voc_data_module = VOCDataModule(data_dir='data/VOC', batch_size=16)"
   ]
  },
  {
   "cell_type": "code",
   "execution_count": 3,
   "id": "71d16507-6816-4b1d-ac32-18b14b56be7a",
   "metadata": {},
   "outputs": [
    {
     "name": "stderr",
     "output_type": "stream",
     "text": [
      "/home/krm05476/anaconda3/envs/neural-network-course/lib/python3.12/site-packages/torchvision/models/_utils.py:208: UserWarning: The parameter 'pretrained' is deprecated since 0.13 and may be removed in the future, please use 'weights' instead.\n",
      "  warnings.warn(\n",
      "/home/krm05476/anaconda3/envs/neural-network-course/lib/python3.12/site-packages/torchvision/models/_utils.py:223: UserWarning: Arguments other than a weight enum or `None` for 'weights' are deprecated since 0.13 and may be removed in the future. The current behavior is equivalent to passing `weights=FasterRCNN_ResNet50_FPN_Weights.COCO_V1`. You can also use `weights=FasterRCNN_ResNet50_FPN_Weights.DEFAULT` to get the most up-to-date weights.\n",
      "  warnings.warn(msg)\n"
     ]
    }
   ],
   "source": [
    "# Example usage\n",
    "data_module = VOCDataModule(data_dir='data/VOC', batch_size=16, num_workers=4)\n",
    "model = FasterRCNN(num_classes=21)"
   ]
  },
  {
   "cell_type": "code",
   "execution_count": null,
   "id": "d6917999-3a9d-4d94-9f39-7256b1391c0e",
   "metadata": {},
   "outputs": [
    {
     "name": "stderr",
     "output_type": "stream",
     "text": [
      "GPU available: True (cuda), used: True\n",
      "TPU available: False, using: 0 TPU cores\n",
      "HPU available: False, using: 0 HPUs\n",
      "You are using a CUDA device ('NVIDIA RTX A6000') that has Tensor Cores. To properly utilize them, you should set `torch.set_float32_matmul_precision('medium' | 'high')` which will trade-off precision for performance. For more details, read https://pytorch.org/docs/stable/generated/torch.set_float32_matmul_precision.html#torch.set_float32_matmul_precision\n"
     ]
    },
    {
     "name": "stdout",
     "output_type": "stream",
     "text": [
      "Using downloaded and verified file: data/VOC/VOCtrainval_11-May-2012.tar\n",
      "Extracting data/VOC/VOCtrainval_11-May-2012.tar to data/VOC\n"
     ]
    },
    {
     "name": "stderr",
     "output_type": "stream",
     "text": [
      "LOCAL_RANK: 0 - CUDA_VISIBLE_DEVICES: [0]\n",
      "\n",
      "  | Name       | Type                 | Params | Mode \n",
      "------------------------------------------------------------\n",
      "0 | map_metric | MeanAveragePrecision | 0      | train\n",
      "1 | model      | FasterRCNN           | 41.4 M | train\n",
      "------------------------------------------------------------\n",
      "41.2 M    Trainable params\n",
      "222 K     Non-trainable params\n",
      "41.4 M    Total params\n",
      "165.586   Total estimated model params size (MB)\n"
     ]
    },
    {
     "name": "stdout",
     "output_type": "stream",
     "text": [
      "Epoch 0: 100%|██████████████████████████████| 358/358 [03:35<00:00,  1.66it/s, v_num=74, train_loss=0.747]\n",
      "Epoch 1:  93%|▉| 334/358 [03:23<00:14,  1.64it/s, v_num=74, train_loss=0.383, val_map=0.0921, val_map_50=0\u001b[A"
     ]
    }
   ],
   "source": [
    "trainer = Trainer(max_epochs=5, callbacks=[MyProgressBar()])\n",
    "trainer.fit(model, data_module)"
   ]
  },
  {
   "cell_type": "code",
   "execution_count": null,
   "id": "9f7a4cc6-6236-49be-9643-d206d830fc56",
   "metadata": {},
   "outputs": [],
   "source": [
    "image, bbox = get_sample(data_module, val=True)"
   ]
  },
  {
   "cell_type": "code",
   "execution_count": null,
   "id": "31bab793-b6e6-4afd-9a14-3c91fe68e56f",
   "metadata": {},
   "outputs": [],
   "source": [
    "show_image_and_bounding_box(image, bbox['annotation']['object'])"
   ]
  },
  {
   "cell_type": "code",
   "execution_count": null,
   "id": "236ec69a-773c-4151-8167-814800aa1c8f",
   "metadata": {},
   "outputs": [],
   "source": [
    "pred = trainer.model([image])"
   ]
  },
  {
   "cell_type": "code",
   "execution_count": null,
   "id": "f4ee44e3-1dfb-4c8b-8bdc-0e7c97ee1284",
   "metadata": {},
   "outputs": [],
   "source": [
    "idx_to_class = data_module.get_idx_to_class()\n",
    "converted_predictions = convert_predictions(pred, idx_to_class, threshold=0.3)\n",
    "show_image_and_bounding_box(image, converted_predictions)"
   ]
  }
 ],
 "metadata": {
  "kernelspec": {
   "display_name": "Python 3 (ipykernel)",
   "language": "python",
   "name": "python3"
  },
  "language_info": {
   "codemirror_mode": {
    "name": "ipython",
    "version": 3
   },
   "file_extension": ".py",
   "mimetype": "text/x-python",
   "name": "python",
   "nbconvert_exporter": "python",
   "pygments_lexer": "ipython3",
   "version": "3.12.4"
  }
 },
 "nbformat": 4,
 "nbformat_minor": 5
}
