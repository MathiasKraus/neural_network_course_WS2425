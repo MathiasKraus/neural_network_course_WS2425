{
 "cells": [
  {
   "cell_type": "code",
   "execution_count": null,
   "id": "b11e377d",
   "metadata": {},
   "outputs": [],
   "source": [
    "#uncomment the following when using Colab or Kaggle\n",
    "# !git clone https://github.com/MathiasKraus/neural_network_course_WS2425\n",
    "# !pip install lightning"
   ]
  },
  {
   "cell_type": "code",
   "execution_count": 1,
   "id": "f9c01f90-ac59-44d7-90eb-13bd40b400d9",
   "metadata": {},
   "outputs": [
    {
     "name": "stderr",
     "output_type": "stream",
     "text": [
      "/home/krm05476/anaconda3/envs/neural-network-course/lib/python3.12/site-packages/tqdm/auto.py:21: TqdmWarning: IProgress not found. Please update jupyter and ipywidgets. See https://ipywidgets.readthedocs.io/en/stable/user_install.html\n",
      "  from .autonotebook import tqdm as notebook_tqdm\n"
     ]
    }
   ],
   "source": [
    "import logging\n",
    "\n",
    "import torch\n",
    "import torch.nn.functional as F\n",
    "from lightning.pytorch import Trainer\n",
    "\n",
    "from model import GPT2\n",
    "from data import JokesDataModule\n",
    "from helper import get_sample, get_batch, generate_text, MyProgressBar\n",
    "\n",
    "torch.set_float32_matmul_precision('medium')\n",
    "log = logging.getLogger(__name__)"
   ]
  },
  {
   "cell_type": "code",
   "execution_count": 2,
   "id": "d85110a1-508b-4eb5-94d2-d5ea39b8b275",
   "metadata": {},
   "outputs": [
    {
     "name": "stderr",
     "output_type": "stream",
     "text": [
      "GPU available: True (cuda), used: True\n",
      "TPU available: False, using: 0 TPU cores\n",
      "HPU available: False, using: 0 HPUs\n",
      "LOCAL_RANK: 0 - CUDA_VISIBLE_DEVICES: [0]\n",
      "\n",
      "  | Name  | Type            | Params | Mode\n",
      "-------------------------------------------------\n",
      "0 | model | GPT2LMHeadModel | 124 M  | eval\n",
      "-------------------------------------------------\n",
      "124 M     Trainable params\n",
      "0         Non-trainable params\n",
      "124 M     Total params\n",
      "497.759   Total estimated model params size (MB)\n"
     ]
    },
    {
     "name": "stdout",
     "output_type": "stream",
     "text": [
      "Epoch 0:   2%|▋                            | 500/23166 [00:15<11:57, 31.60it/s, v_num=22, train_loss=2.070]"
     ]
    },
    {
     "name": "stderr",
     "output_type": "stream",
     "text": [
      "`Trainer.fit` stopped: `max_steps=500` reached.\n"
     ]
    },
    {
     "name": "stdout",
     "output_type": "stream",
     "text": [
      "Epoch 0:   2%|▋                            | 500/23166 [00:17<13:12, 28.60it/s, v_num=22, train_loss=2.070]\n"
     ]
    }
   ],
   "source": [
    "data_module = JokesDataModule()\n",
    "model = GPT2()\n",
    "trainer = Trainer(max_steps=500, callbacks=[MyProgressBar()])\n",
    "trainer.fit(model, data_module)"
   ]
  },
  {
   "cell_type": "code",
   "execution_count": 3,
   "id": "98e65e8e-c8cb-4d22-8e12-c97f2673f2d7",
   "metadata": {},
   "outputs": [
    {
     "data": {
      "text/plain": [
       "'The president of the US is Mr. Putin.'"
      ]
     },
     "execution_count": 3,
     "metadata": {},
     "output_type": "execute_result"
    }
   ],
   "source": [
    "generate_text(model, data_module.tokenizer, 'The president of the US is Mr.')"
   ]
  },
  {
   "cell_type": "code",
   "execution_count": null,
   "id": "d1da0565-2a8f-48d6-b1ae-dc1ccbfbb0a0",
   "metadata": {},
   "outputs": [],
   "source": []
  }
 ],
 "metadata": {
  "kernelspec": {
   "display_name": "Python 3 (ipykernel)",
   "language": "python",
   "name": "python3"
  },
  "language_info": {
   "codemirror_mode": {
    "name": "ipython",
    "version": 3
   },
   "file_extension": ".py",
   "mimetype": "text/x-python",
   "name": "python",
   "nbconvert_exporter": "python",
   "pygments_lexer": "ipython3",
   "version": "3.12.4"
  }
 },
 "nbformat": 4,
 "nbformat_minor": 5
}
